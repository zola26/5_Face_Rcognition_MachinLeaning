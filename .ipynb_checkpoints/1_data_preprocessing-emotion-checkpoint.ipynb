{
 "cells": [
  {
   "cell_type": "code",
   "execution_count": 2,
   "id": "edefdc5f",
   "metadata": {},
   "outputs": [],
   "source": [
    "import numpy as np\n",
    "import cv2\n",
    "import pandas as ps\n",
    "import os\n",
    "import pickle"
   ]
  },
  {
   "cell_type": "code",
   "execution_count": 9,
   "id": "39c77402",
   "metadata": {},
   "outputs": [
    {
     "ename": "error",
     "evalue": "OpenCV(4.8.1) D:\\a\\opencv-python\\opencv-python\\opencv\\modules\\dnn\\src\\caffe\\caffe_io.cpp:1126: error: (-2:Unspecified error) FAILED: fs.is_open(). Can't open \"C:\\Users\\pc\\Desktop\\Face_recognition_django\\Face_Recognition_MachineLearning\\models\\deploytxt.prototxt\" in function 'cv::dnn::ReadProtoFromTextFile'\n",
     "output_type": "error",
     "traceback": [
      "\u001b[1;31m---------------------------------------------------------------------------\u001b[0m",
      "\u001b[1;31merror\u001b[0m                                     Traceback (most recent call last)",
      "Cell \u001b[1;32mIn[9], line 7\u001b[0m\n\u001b[0;32m      3\u001b[0m face_descriptor \u001b[38;5;241m=\u001b[39m \u001b[38;5;124mr\u001b[39m\u001b[38;5;124m'\u001b[39m\u001b[38;5;124mC:\u001b[39m\u001b[38;5;124m\\\u001b[39m\u001b[38;5;124mUsers\u001b[39m\u001b[38;5;124m\\\u001b[39m\u001b[38;5;124mpc\u001b[39m\u001b[38;5;124m\\\u001b[39m\u001b[38;5;124mDesktop\u001b[39m\u001b[38;5;124m\\\u001b[39m\u001b[38;5;124mFace_recognition_django\u001b[39m\u001b[38;5;124m\\\u001b[39m\u001b[38;5;124mFace_Recognition_MachineLearning\u001b[39m\u001b[38;5;124m\\\u001b[39m\u001b[38;5;124mmodels\u001b[39m\u001b[38;5;124m\\\u001b[39m\u001b[38;5;124mopenface.nn4.small2.v1.t7\u001b[39m\u001b[38;5;124m'\u001b[39m\n\u001b[0;32m      5\u001b[0m \u001b[38;5;66;03m# Load models using cv2 dan\u001b[39;00m\n\u001b[1;32m----> 7\u001b[0m detector_model \u001b[38;5;241m=\u001b[39m cv2\u001b[38;5;241m.\u001b[39mdnn\u001b[38;5;241m.\u001b[39mreadNetFromCaffe(face_detection_proto,face_detection_model)\n\u001b[0;32m      8\u001b[0m descriptor_model \u001b[38;5;241m=\u001b[39m cv2\u001b[38;5;241m.\u001b[39mdnn\u001b[38;5;241m.\u001b[39mreadNetFromTorch(face_descriptor)\n",
      "\u001b[1;31merror\u001b[0m: OpenCV(4.8.1) D:\\a\\opencv-python\\opencv-python\\opencv\\modules\\dnn\\src\\caffe\\caffe_io.cpp:1126: error: (-2:Unspecified error) FAILED: fs.is_open(). Can't open \"C:\\Users\\pc\\Desktop\\Face_recognition_django\\Face_Recognition_MachineLearning\\models\\deploytxt.prototxt\" in function 'cv::dnn::ReadProtoFromTextFile'\n"
     ]
    }
   ],
   "source": [
    "face_detection_model = r'C:\\Users\\pc\\Desktop\\Face_recognition_django\\Face_Recognition_MachineLearning\\models\\res10_300x300_ssd_iter_140000_fp165.caffemodel'\n",
    "face_detection_proto = r'C:\\Users\\pc\\Desktop\\Face_recognition_django\\Face_Recognition_MachineLearning\\models\\deploytxt.prototxt'\n",
    "face_descriptor = r'C:\\Users\\pc\\Desktop\\Face_recognition_django\\Face_Recognition_MachineLearning\\models\\openface.nn4.small2.v1.t7'\n",
    "\n",
    "# Load models using cv2 dan\n",
    "\n",
    "detector_model = cv2.dnn.readNetFromCaffe(face_detection_proto,face_detection_model)\n",
    "descriptor_model = cv2.dnn.readNetFromTorch(face_descriptor)"
   ]
  },
  {
   "cell_type": "code",
   "execution_count": null,
   "id": "221b4d9d",
   "metadata": {},
   "outputs": [],
   "source": [
    "!dir images"
   ]
  },
  {
   "cell_type": "code",
   "execution_count": null,
   "id": "90e42a86",
   "metadata": {},
   "outputs": [],
   "source": [
    "# consider sample image ;\n",
    "img = cv2.imread('./emotion_data/angry/0. jpg............\")\n",
    "cv2.imshow('sample',  img)\n",
    "cv2.waitkey(0)\n",
    "cv2.destroyAllWindows()"
   ]
  },
  {
   "cell_type": "code",
   "execution_count": null,
   "id": "d8b75a20",
   "metadata": {},
   "outputs": [],
   "source": [
    "def helper(image_path):\n",
    "img = cv2.imread(image_path)\n",
    "# Step-: face detection\n",
    "image = img.copy()\n",
    "h,w = image.shape[:2]\n",
    "img_blob = cv2.dnn.blobFromImage(image,1,(300,300),(104,177,123,),swapRB = False,crop=False)\n",
    "#set the input\n",
    "detector_model.setInput(img_blob)\n",
    "detections = detector_model.forward()\n",
    "\n",
    "if  len(detections) > 0:\n",
    "          i = np.argmax(detections[0,0,:,2])\n",
    "# consider the face with max confidence score\n",
    "           confidence = detections[0,0,i,2]\n",
    "\n",
    "            if confidence > 0.5:\n",
    "                  box = detections[0,0,i,3:7]*np.array([w,h,w,hl])\n",
    "                   (startx, starty,endx,endy) = box.astype('int')\n",
    "                    #step-2: Feature Extraction or        Fabedding\n",
    "                      roi= image[starty:endy,startx:endx].copy()\n",
    "                       #get the face descriptors\n",
    "                       faceblob = cv2.dnn.blobFromImage(roi, 1/255, (96,96),(0,0,0),swapRB=True,crop= True)\n",
    "                       descriptor_model.setInput(faceblob)\n",
    "                       vectors = descriptor_model.forward()\n",
    "                        \n",
    "                       return vectors\n",
    "            return None "
   ]
  },
  {
   "cell_type": "code",
   "execution_count": null,
   "id": "fd30d124",
   "metadata": {},
   "outputs": [],
   "source": [
    "data = dict(data=[],label=[])"
   ]
  },
  {
   "cell_type": "code",
   "execution_count": null,
   "id": "7acfe0ac",
   "metadata": {},
   "outputs": [],
   "source": [
    "folders = os.listdir('images')\n",
    "for folder in folders:\n",
    "        filenames = os.listdir('images/{}'.format(folder))\n",
    "             for filename in filenames:\n",
    "                   try\n",
    "                        vector = helper('./images/{}/{}'.format(folder, filename)\n",
    "                          if  vector is not None:\n",
    "                              data['data'].append(vector)\n",
    "                              data[label].append(folder)\n",
    "                              print('Feature Extracted Sucessfully')\n",
    "                    except:\n",
    "                             pass"
   ]
  },
  {
   "cell_type": "code",
   "execution_count": null,
   "id": "64977551",
   "metadata": {},
   "outputs": [],
   "source": [
    "data. keys()"
   ]
  },
  {
   "cell_type": "code",
   "execution_count": null,
   "id": "3cd3bd42",
   "metadata": {},
   "outputs": [],
   "source": [
    "pd.Series(data['Label']).value_counts()"
   ]
  },
  {
   "cell_type": "code",
   "execution_count": null,
   "id": "0f015285",
   "metadata": {},
   "outputs": [],
   "source": [
    "# save the data\n",
    "pickle.dump(data,open('data_face_features_emotion.pickle',mode='wb'))"
   ]
  },
  {
   "cell_type": "code",
   "execution_count": null,
   "id": "b524ace3",
   "metadata": {},
   "outputs": [],
   "source": []
  },
  {
   "cell_type": "code",
   "execution_count": 3,
   "id": "e2c536b7",
   "metadata": {},
   "outputs": [],
   "source": []
  },
  {
   "cell_type": "code",
   "execution_count": 6,
   "id": "e5eb36f8",
   "metadata": {},
   "outputs": [
    {
     "ename": "error",
     "evalue": "OpenCV(4.8.1) D:\\a\\opencv-python\\opencv-python\\opencv\\modules\\dnn\\src\\caffe\\caffe_io.cpp:1126: error: (-2:Unspecified error) FAILED: fs.is_open(). Can't open \"C:\\Users\\pc\\Desktop\\Face_recognition_django\\Face_Recognition_MachineLearning\\models\\deploytxt\" in function 'cv::dnn::ReadProtoFromTextFile'\n",
     "output_type": "error",
     "traceback": [
      "\u001b[1;31m---------------------------------------------------------------------------\u001b[0m",
      "\u001b[1;31merror\u001b[0m                                     Traceback (most recent call last)",
      "Cell \u001b[1;32mIn[6], line 6\u001b[0m\n\u001b[0;32m      3\u001b[0m face_descriptor \u001b[38;5;241m=\u001b[39m \u001b[38;5;124mr\u001b[39m\u001b[38;5;124m'\u001b[39m\u001b[38;5;124mC:\u001b[39m\u001b[38;5;124m\\\u001b[39m\u001b[38;5;124mUsers\u001b[39m\u001b[38;5;124m\\\u001b[39m\u001b[38;5;124mpc\u001b[39m\u001b[38;5;124m\\\u001b[39m\u001b[38;5;124mDesktop\u001b[39m\u001b[38;5;124m\\\u001b[39m\u001b[38;5;124mFace_recognition_django\u001b[39m\u001b[38;5;124m\\\u001b[39m\u001b[38;5;124mFace_Recognition_MachineLearning\u001b[39m\u001b[38;5;124m\\\u001b[39m\u001b[38;5;124mmodels\u001b[39m\u001b[38;5;124m\\\u001b[39m\u001b[38;5;124mopenface.nn4.small2.v1.t7\u001b[39m\u001b[38;5;124m'\u001b[39m\n\u001b[0;32m      5\u001b[0m \u001b[38;5;66;03m# Load models using cv2 dnn module\u001b[39;00m\n\u001b[1;32m----> 6\u001b[0m detector_model \u001b[38;5;241m=\u001b[39m cv2\u001b[38;5;241m.\u001b[39mdnn\u001b[38;5;241m.\u001b[39mreadNetFromCaffe(face_detection_proto, face_detection_model)\n\u001b[0;32m      7\u001b[0m descriptor_model \u001b[38;5;241m=\u001b[39m cv2\u001b[38;5;241m.\u001b[39mdnn\u001b[38;5;241m.\u001b[39mreadNetFromTorch(face_descriptor)\n",
      "\u001b[1;31merror\u001b[0m: OpenCV(4.8.1) D:\\a\\opencv-python\\opencv-python\\opencv\\modules\\dnn\\src\\caffe\\caffe_io.cpp:1126: error: (-2:Unspecified error) FAILED: fs.is_open(). Can't open \"C:\\Users\\pc\\Desktop\\Face_recognition_django\\Face_Recognition_MachineLearning\\models\\deploytxt\" in function 'cv::dnn::ReadProtoFromTextFile'\n"
     ]
    }
   ],
   "source": [
    "face_detection_model = r'C:\\Users\\pc\\Desktop\\Face_recognition_django\\Face_Recognition_MachineLearning\\models\\res10_300x300_ssd_iter_140000_fp165.caffemodel'\n",
    "face_detection_proto = r'C:\\Users\\pc\\Desktop\\Face_recognition_django\\Face_Recognition_MachineLearning\\models\\deploytxt'\n",
    "face_descriptor = r'C:\\Users\\pc\\Desktop\\Face_recognition_django\\Face_Recognition_MachineLearning\\models\\openface.nn4.small2.v1.t7'\n",
    "\n",
    "# Load models using cv2 dnn module\n",
    "detector_model = cv2.dnn.readNetFromCaffe(face_detection_proto, face_detection_model)\n",
    "descriptor_model = cv2.dnn.readNetFromTorch(face_descriptor)"
   ]
  },
  {
   "cell_type": "code",
   "execution_count": null,
   "id": "e6193853",
   "metadata": {},
   "outputs": [],
   "source": []
  }
 ],
 "metadata": {
  "kernelspec": {
   "display_name": "Python 3 (ipykernel)",
   "language": "python",
   "name": "python3"
  },
  "language_info": {
   "codemirror_mode": {
    "name": "ipython",
    "version": 3
   },
   "file_extension": ".py",
   "mimetype": "text/x-python",
   "name": "python",
   "nbconvert_exporter": "python",
   "pygments_lexer": "ipython3",
   "version": "3.11.5"
  }
 },
 "nbformat": 4,
 "nbformat_minor": 5
}
